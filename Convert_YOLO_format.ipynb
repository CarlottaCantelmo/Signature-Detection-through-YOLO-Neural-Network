{
 "cells": [
  {
   "cell_type": "code",
   "execution_count": 1,
   "metadata": {
    "id": "gzSRIx1kbNzE"
   },
   "outputs": [],
   "source": [
    "import os, sys, random, shutil\n",
    "import xml.etree.ElementTree as ET\n",
    "from glob import glob\n",
    "import pandas as pd\n",
    "from shutil import copyfile\n",
    "import pandas as pd\n",
    "from sklearn import preprocessing, model_selection\n",
    "import matplotlib.pyplot as plt\n",
    "#%matplotlib inline\n",
    "from matplotlib import patches\n",
    "import numpy as np\n",
    "import cv2"
   ]
  },
  {
   "cell_type": "code",
   "execution_count": 2,
   "metadata": {
    "colab": {
     "base_uri": "https://localhost:8080/"
    },
    "id": "jLNvYZYedxIs",
    "outputId": "adeadce2-b2a5-4ac1-81cf-cca7b2af54b5"
   },
   "outputs": [],
   "source": [
    "#from google.colab import drive\n",
    "#drive.mount('/content/gdrive')"
   ]
  },
  {
   "cell_type": "markdown",
   "metadata": {
    "id": "swh3L8S6bsbv"
   },
   "source": [
    "### Extracting information from Tobacco-800 XML files"
   ]
  },
  {
   "cell_type": "code",
   "execution_count": 3,
   "metadata": {
    "id": "HBYY8a0ybqK2"
   },
   "outputs": [],
   "source": [
    "df = []\n",
    "cnt = 0\n",
    "\n",
    "# refer the xml files to understand its structure and revist this code block.\n",
    "annotations = sorted(glob('Input data/Tobacc800_Groundtruth_v2.0/XMLGroundtruth_v2.0/*.xml'))\n",
    "for file in annotations:\n",
    "    myroot = ET.parse(file).getroot()\n",
    "    # image filename is changed aah97e00-page02_1.tif -> 0.tif, so the previous filename is collected here.\n",
    "    prev_filename = myroot[0].attrib['src']\n",
    "    filename = str(cnt) + '.tif' # new filename based on the count (0.tif, 1.tif etc)\n",
    "    page_height, page_width =  myroot[0][0].attrib['height'], myroot[0][0].attrib['width']\n",
    "    \n",
    "    row = []\n",
    "    # An image might have multiple items (zones) (logos and signs), so iterate through each zones\n",
    "    for zone in myroot[0][0]: \n",
    "        category = zone.attrib['gedi_type'] # type of zone (DLLogo/ DLSignature)\n",
    "        id = zone.attrib['id']\n",
    "        x, y = zone.attrib['col'], zone.attrib['row'] # x, y coordinate\n",
    "        w, h = zone.attrib['width'], zone.attrib['height'] # width and height of bbox\n",
    "        \n",
    "        # Signature have Authors, represeting whose signature it is\n",
    "        if category == 'DLSignature':\n",
    "            AuthorID = zone.attrib['AuthorID']\n",
    "            Overlapped = zone.attrib['Overlapped']\n",
    "        else:\n",
    "            # Logos don't have authors.\n",
    "            AuthorID, Overlapped = ('NA', 'NA')\n",
    "        row = [prev_filename, filename, page_height, page_width, AuthorID, Overlapped, category, id, x, y, w, h]\n",
    "        df.append(row)\n",
    "    cnt += 1"
   ]
  },
  {
   "cell_type": "markdown",
   "source": [
    "### prova myroot function"
   ],
   "metadata": {
    "id": "hThEF1g1clMx"
   }
  },
  {
   "cell_type": "code",
   "source": [
    "# https://www.datacamp.com/tutorial/python-xml-elementtree\n",
    "print(ET.tostring(myroot, encoding='utf8').decode('utf8'))"
   ],
   "metadata": {
    "colab": {
     "base_uri": "https://localhost:8080/"
    },
    "id": "E3C3Iq35apLg",
    "outputId": "7e96c18e-a40c-425d-97a0-f0eb597ad2ba"
   },
   "execution_count": 4,
   "outputs": [
    {
     "name": "stdout",
     "output_type": "stream",
     "text": [
      "<?xml version='1.0' encoding='utf8'?>\n",
      "<ns0:GEDI xmlns:ns0=\"http://lamp.cfar.umd.edu/GEDI\" version=\"1.0\">\n",
      "\t<ns0:DL_DOCUMENT src=\"zvs17e00.tif\" NrOfPages=\"1\" docTag=\"xml\">\n",
      "\t\t<ns0:DL_PAGE gedi_type=\"DL_PAGE\" src=\"zvs17e00.tif\" pageID=\"1\" width=\"2560\" height=\"3295\">\n",
      "\t\t\t<ns0:DL_ZONE gedi_type=\"DLSignature\" id=\"None\" col=\"1649\" row=\"2094\" width=\"542\" height=\"167\" Overlapped=\"Yes\" AuthorID=\"Landry, J.T.\"> </ns0:DL_ZONE>\n",
      "\t\t</ns0:DL_PAGE>\n",
      "\t</ns0:DL_DOCUMENT>\n",
      "</ns0:GEDI>\n"
     ]
    }
   ]
  },
  {
   "cell_type": "code",
   "source": [
    "#myroot = ET.parse(file).getroot()\n",
    "tree = ET.parse('Input data/Tobacc800_Groundtruth_v2.0/XMLGroundtruth_v2.0/zvs17e00.xml')\n",
    "myroot = tree.getroot()\n",
    "#GEDI is the single root element that contains all the other elements"
   ],
   "metadata": {
    "id": "ONqQbjiTVgkh"
   },
   "execution_count": 5,
   "outputs": []
  },
  {
   "cell_type": "code",
   "source": [
    "print(myroot[0][0])"
   ],
   "metadata": {
    "colab": {
     "base_uri": "https://localhost:8080/"
    },
    "id": "jtnSUwx9bP2r",
    "outputId": "0821cd16-ae0d-4c74-8028-141afd0985d0"
   },
   "execution_count": 6,
   "outputs": [
    {
     "name": "stdout",
     "output_type": "stream",
     "text": [
      "<Element '{http://lamp.cfar.umd.edu/GEDI}DL_PAGE' at 0x000001A6241817C0>\n"
     ]
    }
   ]
  },
  {
   "cell_type": "code",
   "source": [
    "prev_filename = myroot[0].attrib['src']\n",
    "filename = str(cnt) + '.tif'\n",
    "page_height =  myroot[0][0].attrib['height']\n",
    "page_width =  myroot[0][0].attrib['width']\n",
    "print(prev_filename, filename, page_height, page_width)"
   ],
   "metadata": {
    "colab": {
     "base_uri": "https://localhost:8080/"
    },
    "id": "raW7kgSobt8S",
    "outputId": "f39ae844-5c17-4408-f26c-113141eceb88"
   },
   "execution_count": 7,
   "outputs": [
    {
     "name": "stdout",
     "output_type": "stream",
     "text": [
      "zvs17e00.tif 1290.tif 3295 2560\n"
     ]
    }
   ]
  },
  {
   "cell_type": "code",
   "source": [
    "for child in myroot:\n",
    "    print(myroot.tag, myroot.attrib)"
   ],
   "metadata": {
    "colab": {
     "base_uri": "https://localhost:8080/"
    },
    "id": "V4orQQ_mZ2bH",
    "outputId": "1170c364-de16-4981-fb7d-e6548438cb74"
   },
   "execution_count": 8,
   "outputs": [
    {
     "name": "stdout",
     "output_type": "stream",
     "text": [
      "{http://lamp.cfar.umd.edu/GEDI}GEDI {'version': '1.0'}\n"
     ]
    }
   ]
  },
  {
   "cell_type": "code",
   "source": [
    "#all the elements in the tree\n",
    "[elem.tag for elem in myroot.iter()]"
   ],
   "metadata": {
    "colab": {
     "base_uri": "https://localhost:8080/"
    },
    "id": "3nJuFDffabBY",
    "outputId": "ff309f93-6274-4937-a55a-a237f824e33e"
   },
   "execution_count": 9,
   "outputs": [
    {
     "data": {
      "text/plain": "['{http://lamp.cfar.umd.edu/GEDI}GEDI',\n '{http://lamp.cfar.umd.edu/GEDI}DL_DOCUMENT',\n '{http://lamp.cfar.umd.edu/GEDI}DL_PAGE',\n '{http://lamp.cfar.umd.edu/GEDI}DL_ZONE']"
     },
     "execution_count": 9,
     "metadata": {},
     "output_type": "execute_result"
    }
   ]
  },
  {
   "cell_type": "code",
   "execution_count": 10,
   "metadata": {
    "colab": {
     "base_uri": "https://localhost:8080/"
    },
    "id": "3ZNpVd6dODPu",
    "outputId": "fc40d242-19a8-4ac3-94cc-67a1d3aeae28"
   },
   "outputs": [
    {
     "name": "stdout",
     "output_type": "stream",
     "text": [
      "DLSignature None 1649 2094 542 167\n"
     ]
    }
   ],
   "source": [
    "for zone in myroot[0][0]: \n",
    "        category = zone.attrib['gedi_type'] # type of zone (DLLogo/ DLSignature)\n",
    "        id = zone.attrib['id']\n",
    "        x, y = zone.attrib['col'], zone.attrib['row'] # x, y coordinate\n",
    "        w, h = zone.attrib['width'], zone.attrib['height'] # width and height of bbox\n",
    "\n",
    "print(category, id, x, y, w, h)"
   ]
  },
  {
   "cell_type": "markdown",
   "source": [
    "### fine prova"
   ],
   "metadata": {
    "id": "9wcmv9dNco-0"
   }
  },
  {
   "cell_type": "code",
   "execution_count": 11,
   "metadata": {
    "colab": {
     "base_uri": "https://localhost:8080/",
     "height": 423
    },
    "id": "qgmTkZa7hmEt",
    "outputId": "91f27c5b-859a-4107-d2f8-96d663c7e09a"
   },
   "outputs": [
    {
     "data": {
      "text/plain": "              prev_filename  filename page_height page_width  \\\n0     aah97e00-page02_1.tif     0.tif        3296       2560   \n1     aah97e00-page02_2.tif     1.tif        3296       2560   \n2              aam09c00.tif     2.tif        2292       1728   \n3            aao54e00_2.tif     4.tif        3296       2560   \n4              abm69c00.tif     5.tif        2292       1728   \n...                     ...       ...         ...        ...   \n1337  zrz94a00-page02_1.tif  1284.tif        2156       1728   \n1338  zrz94a00-page02_2.tif  1285.tif        2156       1728   \n1339           zss86d00.tif  1286.tif        2292       1728   \n1340  ztz52d00-page02_2.tif  1288.tif        2292       1728   \n1341           zvs17e00.tif  1289.tif        3295       2560   \n\n              AuthorID Overlapped     category    id     x     y width height  \n0                   NA         NA       DLLogo  None  1074    18   374    219  \n1          Boder, J.B.        Yes  DLSignature  None  1409   793   659    361  \n2         Koplow, M.G.        Yes  DLSignature  None   821  1422   757    183  \n3         Landry, J.T.        Yes  DLSignature  None  1514   708   627    206  \n4        Feldman, J.D.        Yes  DLSignature  None   667  1279   617    110  \n...                ...        ...          ...   ...   ...   ...   ...    ...  \n1337                NA         NA       DLLogo  None   737   116   191    124  \n1338     Dimech, Ellen        Yes  DLSignature  None   828  1046   362     91  \n1339  Nielsen, Vigo G.        Yes  DLSignature  None   867  1734   363    189  \n1340     Bergman, J.I.        Yes  DLSignature  None   896   651   205    178  \n1341      Landry, J.T.        Yes  DLSignature  None  1649  2094   542    167  \n\n[1342 rows x 12 columns]",
      "text/html": "<div>\n<style scoped>\n    .dataframe tbody tr th:only-of-type {\n        vertical-align: middle;\n    }\n\n    .dataframe tbody tr th {\n        vertical-align: top;\n    }\n\n    .dataframe thead th {\n        text-align: right;\n    }\n</style>\n<table border=\"1\" class=\"dataframe\">\n  <thead>\n    <tr style=\"text-align: right;\">\n      <th></th>\n      <th>prev_filename</th>\n      <th>filename</th>\n      <th>page_height</th>\n      <th>page_width</th>\n      <th>AuthorID</th>\n      <th>Overlapped</th>\n      <th>category</th>\n      <th>id</th>\n      <th>x</th>\n      <th>y</th>\n      <th>width</th>\n      <th>height</th>\n    </tr>\n  </thead>\n  <tbody>\n    <tr>\n      <th>0</th>\n      <td>aah97e00-page02_1.tif</td>\n      <td>0.tif</td>\n      <td>3296</td>\n      <td>2560</td>\n      <td>NA</td>\n      <td>NA</td>\n      <td>DLLogo</td>\n      <td>None</td>\n      <td>1074</td>\n      <td>18</td>\n      <td>374</td>\n      <td>219</td>\n    </tr>\n    <tr>\n      <th>1</th>\n      <td>aah97e00-page02_2.tif</td>\n      <td>1.tif</td>\n      <td>3296</td>\n      <td>2560</td>\n      <td>Boder, J.B.</td>\n      <td>Yes</td>\n      <td>DLSignature</td>\n      <td>None</td>\n      <td>1409</td>\n      <td>793</td>\n      <td>659</td>\n      <td>361</td>\n    </tr>\n    <tr>\n      <th>2</th>\n      <td>aam09c00.tif</td>\n      <td>2.tif</td>\n      <td>2292</td>\n      <td>1728</td>\n      <td>Koplow, M.G.</td>\n      <td>Yes</td>\n      <td>DLSignature</td>\n      <td>None</td>\n      <td>821</td>\n      <td>1422</td>\n      <td>757</td>\n      <td>183</td>\n    </tr>\n    <tr>\n      <th>3</th>\n      <td>aao54e00_2.tif</td>\n      <td>4.tif</td>\n      <td>3296</td>\n      <td>2560</td>\n      <td>Landry, J.T.</td>\n      <td>Yes</td>\n      <td>DLSignature</td>\n      <td>None</td>\n      <td>1514</td>\n      <td>708</td>\n      <td>627</td>\n      <td>206</td>\n    </tr>\n    <tr>\n      <th>4</th>\n      <td>abm69c00.tif</td>\n      <td>5.tif</td>\n      <td>2292</td>\n      <td>1728</td>\n      <td>Feldman, J.D.</td>\n      <td>Yes</td>\n      <td>DLSignature</td>\n      <td>None</td>\n      <td>667</td>\n      <td>1279</td>\n      <td>617</td>\n      <td>110</td>\n    </tr>\n    <tr>\n      <th>...</th>\n      <td>...</td>\n      <td>...</td>\n      <td>...</td>\n      <td>...</td>\n      <td>...</td>\n      <td>...</td>\n      <td>...</td>\n      <td>...</td>\n      <td>...</td>\n      <td>...</td>\n      <td>...</td>\n      <td>...</td>\n    </tr>\n    <tr>\n      <th>1337</th>\n      <td>zrz94a00-page02_1.tif</td>\n      <td>1284.tif</td>\n      <td>2156</td>\n      <td>1728</td>\n      <td>NA</td>\n      <td>NA</td>\n      <td>DLLogo</td>\n      <td>None</td>\n      <td>737</td>\n      <td>116</td>\n      <td>191</td>\n      <td>124</td>\n    </tr>\n    <tr>\n      <th>1338</th>\n      <td>zrz94a00-page02_2.tif</td>\n      <td>1285.tif</td>\n      <td>2156</td>\n      <td>1728</td>\n      <td>Dimech, Ellen</td>\n      <td>Yes</td>\n      <td>DLSignature</td>\n      <td>None</td>\n      <td>828</td>\n      <td>1046</td>\n      <td>362</td>\n      <td>91</td>\n    </tr>\n    <tr>\n      <th>1339</th>\n      <td>zss86d00.tif</td>\n      <td>1286.tif</td>\n      <td>2292</td>\n      <td>1728</td>\n      <td>Nielsen, Vigo G.</td>\n      <td>Yes</td>\n      <td>DLSignature</td>\n      <td>None</td>\n      <td>867</td>\n      <td>1734</td>\n      <td>363</td>\n      <td>189</td>\n    </tr>\n    <tr>\n      <th>1340</th>\n      <td>ztz52d00-page02_2.tif</td>\n      <td>1288.tif</td>\n      <td>2292</td>\n      <td>1728</td>\n      <td>Bergman, J.I.</td>\n      <td>Yes</td>\n      <td>DLSignature</td>\n      <td>None</td>\n      <td>896</td>\n      <td>651</td>\n      <td>205</td>\n      <td>178</td>\n    </tr>\n    <tr>\n      <th>1341</th>\n      <td>zvs17e00.tif</td>\n      <td>1289.tif</td>\n      <td>3295</td>\n      <td>2560</td>\n      <td>Landry, J.T.</td>\n      <td>Yes</td>\n      <td>DLSignature</td>\n      <td>None</td>\n      <td>1649</td>\n      <td>2094</td>\n      <td>542</td>\n      <td>167</td>\n    </tr>\n  </tbody>\n</table>\n<p>1342 rows × 12 columns</p>\n</div>"
     },
     "execution_count": 11,
     "metadata": {},
     "output_type": "execute_result"
    }
   ],
   "source": [
    "data = pd.DataFrame(df, columns=['prev_filename', 'filename', 'page_height', 'page_width', 'AuthorID', 'Overlapped', 'category', 'id', 'x', 'y', 'width','height'])\n",
    "data"
   ]
  },
  {
   "cell_type": "code",
   "execution_count": 12,
   "metadata": {
    "colab": {
     "base_uri": "https://localhost:8080/",
     "height": 112
    },
    "id": "dqAOTNaqk6WB",
    "outputId": "2440721f-aa07-4db1-bc7e-7a46b336d03b"
   },
   "outputs": [
    {
     "data": {
      "text/plain": "               filename  page_height  page_width  AuthorID  Overlapped  \\\nprev_filename                                                            \nabm69c00.tif          1            1           1         1           1   \n\n               category  id  x  y  width  height  \nprev_filename                                     \nabm69c00.tif          1   1  1  1      1       1  ",
      "text/html": "<div>\n<style scoped>\n    .dataframe tbody tr th:only-of-type {\n        vertical-align: middle;\n    }\n\n    .dataframe tbody tr th {\n        vertical-align: top;\n    }\n\n    .dataframe thead th {\n        text-align: right;\n    }\n</style>\n<table border=\"1\" class=\"dataframe\">\n  <thead>\n    <tr style=\"text-align: right;\">\n      <th></th>\n      <th>filename</th>\n      <th>page_height</th>\n      <th>page_width</th>\n      <th>AuthorID</th>\n      <th>Overlapped</th>\n      <th>category</th>\n      <th>id</th>\n      <th>x</th>\n      <th>y</th>\n      <th>width</th>\n      <th>height</th>\n    </tr>\n    <tr>\n      <th>prev_filename</th>\n      <th></th>\n      <th></th>\n      <th></th>\n      <th></th>\n      <th></th>\n      <th></th>\n      <th></th>\n      <th></th>\n      <th></th>\n      <th></th>\n      <th></th>\n    </tr>\n  </thead>\n  <tbody>\n    <tr>\n      <th>abm69c00.tif</th>\n      <td>1</td>\n      <td>1</td>\n      <td>1</td>\n      <td>1</td>\n      <td>1</td>\n      <td>1</td>\n      <td>1</td>\n      <td>1</td>\n      <td>1</td>\n      <td>1</td>\n      <td>1</td>\n    </tr>\n  </tbody>\n</table>\n</div>"
     },
     "execution_count": 12,
     "metadata": {},
     "output_type": "execute_result"
    }
   ],
   "source": [
    "data1=data.query(\"prev_filename == 'abm69c00.tif'\")\n",
    "data1.groupby(['prev_filename']).count()"
   ]
  },
  {
   "cell_type": "code",
   "execution_count": 13,
   "metadata": {
    "colab": {
     "base_uri": "https://localhost:8080/",
     "height": 143
    },
    "id": "IqllDKh7q9ZO",
    "outputId": "b846d37c-939e-4745-d013-45467b70b22a"
   },
   "outputs": [
    {
     "data": {
      "text/plain": "             prev_filename  filename  page_height  page_width  AuthorID  \\\ncategory                                                                  \nDLLogo                 432       432          432         432       432   \nDLSignature            910       910          910         910       910   \n\n             Overlapped   id    x    y  width  height  \ncategory                                               \nDLLogo              432  432  432  432    432     432  \nDLSignature         910  910  910  910    910     910  ",
      "text/html": "<div>\n<style scoped>\n    .dataframe tbody tr th:only-of-type {\n        vertical-align: middle;\n    }\n\n    .dataframe tbody tr th {\n        vertical-align: top;\n    }\n\n    .dataframe thead th {\n        text-align: right;\n    }\n</style>\n<table border=\"1\" class=\"dataframe\">\n  <thead>\n    <tr style=\"text-align: right;\">\n      <th></th>\n      <th>prev_filename</th>\n      <th>filename</th>\n      <th>page_height</th>\n      <th>page_width</th>\n      <th>AuthorID</th>\n      <th>Overlapped</th>\n      <th>id</th>\n      <th>x</th>\n      <th>y</th>\n      <th>width</th>\n      <th>height</th>\n    </tr>\n    <tr>\n      <th>category</th>\n      <th></th>\n      <th></th>\n      <th></th>\n      <th></th>\n      <th></th>\n      <th></th>\n      <th></th>\n      <th></th>\n      <th></th>\n      <th></th>\n      <th></th>\n    </tr>\n  </thead>\n  <tbody>\n    <tr>\n      <th>DLLogo</th>\n      <td>432</td>\n      <td>432</td>\n      <td>432</td>\n      <td>432</td>\n      <td>432</td>\n      <td>432</td>\n      <td>432</td>\n      <td>432</td>\n      <td>432</td>\n      <td>432</td>\n      <td>432</td>\n    </tr>\n    <tr>\n      <th>DLSignature</th>\n      <td>910</td>\n      <td>910</td>\n      <td>910</td>\n      <td>910</td>\n      <td>910</td>\n      <td>910</td>\n      <td>910</td>\n      <td>910</td>\n      <td>910</td>\n      <td>910</td>\n      <td>910</td>\n    </tr>\n  </tbody>\n</table>\n</div>"
     },
     "execution_count": 13,
     "metadata": {},
     "output_type": "execute_result"
    }
   ],
   "source": [
    "data.groupby(['category']).count()"
   ]
  },
  {
   "cell_type": "code",
   "execution_count": 14,
   "metadata": {
    "colab": {
     "base_uri": "https://localhost:8080/"
    },
    "id": "2lSHhkygno8f",
    "outputId": "64448b2e-51d1-4201-afee-94146f36c946"
   },
   "outputs": [
    {
     "data": {
      "text/plain": "(page_height    3584\n page_width     2720\n dtype: object,\n page_height    1575\n page_width     1200\n dtype: object)"
     },
     "execution_count": 14,
     "metadata": {},
     "output_type": "execute_result"
    }
   ],
   "source": [
    "test = data[['page_height', 'page_width']]\n",
    "test.max(), test.min()"
   ]
  },
  {
   "cell_type": "markdown",
   "metadata": {
    "id": "D7TgBNsRnuth"
   },
   "source": [
    "### Scaling the image to reduce training time"
   ]
  },
  {
   "cell_type": "code",
   "execution_count": 15,
   "metadata": {
    "id": "6g7Hj8Ztp2l-"
   },
   "outputs": [
    {
     "ename": "FileNotFoundError",
     "evalue": "[WinError 3] Impossibile trovare il percorso specificato: 'Input data/New format/Data Scaled/'",
     "output_type": "error",
     "traceback": [
      "\u001B[1;31m---------------------------------------------------------------------------\u001B[0m",
      "\u001B[1;31mFileNotFoundError\u001B[0m                         Traceback (most recent call last)",
      "Cell \u001B[1;32mIn[15], line 7\u001B[0m\n\u001B[0;32m      4\u001B[0m isExist \u001B[38;5;241m=\u001B[39m os\u001B[38;5;241m.\u001B[39mpath\u001B[38;5;241m.\u001B[39mexists(SAVE_PATH)\n\u001B[0;32m      6\u001B[0m \u001B[38;5;28;01mif\u001B[39;00m \u001B[38;5;129;01mnot\u001B[39;00m isExist:\n\u001B[1;32m----> 7\u001B[0m   \u001B[43mos\u001B[49m\u001B[38;5;241;43m.\u001B[39;49m\u001B[43mmkdir\u001B[49m\u001B[43m(\u001B[49m\u001B[43mSAVE_PATH\u001B[49m\u001B[43m)\u001B[49m\n\u001B[0;32m      8\u001B[0m \u001B[38;5;28;01melse\u001B[39;00m:\n\u001B[0;32m      9\u001B[0m   \u001B[38;5;28;01mpass\u001B[39;00m\n",
      "\u001B[1;31mFileNotFoundError\u001B[0m: [WinError 3] Impossibile trovare il percorso specificato: 'Input data/New format/Data Scaled/'"
     ]
    }
   ],
   "source": [
    "BASE_DIR = 'Input data/Tobacco800_SinglePage/SinglePageTIF/'\n",
    "SAVE_PATH = 'Input data/New format/Data Scaled/'\n",
    "\n",
    "isExist = os.path.exists(SAVE_PATH)\n",
    "\n",
    "if not isExist:\n",
    "  os.mkdir(SAVE_PATH)\n",
    "else:\n",
    "  pass"
   ]
  },
  {
   "cell_type": "code",
   "execution_count": null,
   "outputs": [],
   "source": [
    "def scale_image(df):\n",
    "    df_new = []\n",
    "    file_name = data['prev_filename']\n",
    "    X, Y, W, H = map(int, data.x), map(int, data.y), map(int, data.width), map(int, data.height)\n",
    "    for file, x, y, w, h in zip(file_name, X, Y, W, H):\n",
    "        image_path = BASE_DIR + file\n",
    "        img = cv2.imread(image_path) #return a numpy array\n",
    "        page_height, page_width = img.shape[:2]\n",
    "        max_height = 640\n",
    "        max_width = 480\n",
    "\n",
    "        # computes the scaling factor\n",
    "        if max_height < page_height or max_width < page_width:\n",
    "            scaling_factor = max_height / float(page_height)\n",
    "            if max_width/float(page_width) < scaling_factor:\n",
    "                scaling_factor = max_width / float(page_width)\n",
    "            # scale the image with the scaling factor\n",
    "            img = cv2.resize(img, None, fx=scaling_factor, fy=scaling_factor, interpolation=cv2.INTER_AREA)\n",
    "            #INTER_AREA: method that decides which pixel gets which value based on its neighboring pixels and the scale at which the image is being resized.\n",
    "        jpg_filename = file[:-4] + '.jpg'\n",
    "        new_file_path = SAVE_PATH + jpg_filename\n",
    "        cv2.imwrite(new_file_path, img) # write the scales image\n",
    "\n",
    "        # save new page height and width\n",
    "        page_height, page_width = page_height*scaling_factor, page_width*scaling_factor\n",
    "        # compute new x, y, w, h coordinates after scaling\n",
    "        x, y, w, h= int(x*scaling_factor), int(y*scaling_factor), int(w*scaling_factor), int(h*scaling_factor)\n",
    "        row = [jpg_filename, x, y, w, h, page_height, page_width]\n",
    "        df_new.append(row)\n",
    "    return df_new\n",
    "scaled_data = scale_image(data)"
   ],
   "metadata": {
    "collapsed": false
   }
  },
  {
   "cell_type": "markdown",
   "metadata": {
    "id": "h1yHwSagyXmV"
   },
   "source": [
    "### Adding the information regarding the scaling to the df"
   ]
  },
  {
   "cell_type": "code",
   "execution_count": null,
   "metadata": {
    "colab": {
     "base_uri": "https://localhost:8080/",
     "height": 583
    },
    "id": "JiUH1-A6ybTg",
    "outputId": "c6cfd639-37a5-4009-eab3-e0036f554892"
   },
   "outputs": [],
   "source": [
    "scaled_data = list(zip(*scaled_data))\n",
    "\n",
    "data['new_filename'] = scaled_data[0]\n",
    "data['x_scaled'] = scaled_data[1]\n",
    "data['y_scaled'] = scaled_data[2]\n",
    "data['w_scaled'] = scaled_data[3]\n",
    "data['h_scaled'] = scaled_data[4]\n",
    "data['page_height_scaled'] = scaled_data[5]\n",
    "data['page_width_scaled'] = scaled_data[6]\n",
    "data.head(10)"
   ]
  },
  {
   "cell_type": "markdown",
   "source": [
    "### Testing the scaled image"
   ],
   "metadata": {
    "id": "yUiPX29yyjvU"
   }
  },
  {
   "cell_type": "code",
   "source": [
    "img = cv2.imread('Input data/New format/Data Scaled/aah97e00-page02_2.jpg')\n",
    "\n",
    "img = cv2.rectangle(img, (264, 148), (264+123, 148+67), (255, 0, 0), 1)\n",
    "#cv2.rectangle(image, start_point, end_point, color, thickness)\n",
    "plt.figure(figsize=(6, 6))\n",
    "plt.imshow(img)"
   ],
   "metadata": {
    "colab": {
     "base_uri": "https://localhost:8080/",
     "height": 395
    },
    "id": "2PvxNRK-yhuM",
    "outputId": "5277902c-e730-40f1-c32a-332145a3a723"
   },
   "execution_count": null,
   "outputs": []
  },
  {
   "cell_type": "code",
   "source": [
    "df2=data.query(\"new_filename == 'aao54e00_2.jpg'\")\n",
    "df2"
   ],
   "metadata": {
    "colab": {
     "base_uri": "https://localhost:8080/",
     "height": 162
    },
    "id": "zNRcrsOYjmha",
    "outputId": "9b528f99-e852-4c55-d485-1b97de4e6a09"
   },
   "execution_count": null,
   "outputs": []
  },
  {
   "cell_type": "code",
   "source": [
    "df2.groupby(['new_filename']).count()"
   ],
   "metadata": {
    "id": "uVx7BIj6kaNe",
    "colab": {
     "base_uri": "https://localhost:8080/",
     "height": 176
    },
    "outputId": "d248364e-a090-4523-b17b-dd999f611035"
   },
   "execution_count": null,
   "outputs": []
  },
  {
   "cell_type": "markdown",
   "source": [
    "### Saving to CSV file"
   ],
   "metadata": {
    "id": "UdG_bMuJy0r6"
   }
  },
  {
   "cell_type": "code",
   "source": [
    "isExist = os.path.exists('Input data/New format/Data Cleaned/')\n",
    "\n",
    "if not isExist:\n",
    "  os.mkdir('Input data/New format/Data Cleaned/')\n",
    "else:\n",
    "  pass"
   ],
   "metadata": {
    "id": "fCp4k2FAn7HX"
   },
   "execution_count": null,
   "outputs": []
  },
  {
   "cell_type": "code",
   "source": [
    "data[['prev_filename', 'new_filename', 'filename', 'page_height', 'page_width', 'page_height_scaled', 'page_width_scaled', 'AuthorID', 'Overlapped', 'category', 'id', 'x', 'y', 'width', 'height', 'x_scaled', 'y_scaled', 'w_scaled', 'h_scaled']].to_csv('Input data/New format/Data Cleaned/data_cleaned.csv', index=False)\n",
    "data.head(3)"
   ],
   "metadata": {
    "colab": {
     "base_uri": "https://localhost:8080/",
     "height": 259
    },
    "id": "rBJezgL1y1zr",
    "outputId": "28a834fb-01e2-44a9-e41a-98b2f9afab46"
   },
   "execution_count": null,
   "outputs": []
  },
  {
   "cell_type": "markdown",
   "source": [
    "### Converting data to YOLOv5 format"
   ],
   "metadata": {
    "id": "ARd7zwfhzRQj"
   }
  },
  {
   "cell_type": "code",
   "source": [
    "def x_center(df):\n",
    "  return int(df.x_scaled + (df.w_scaled/2))\n",
    "def y_center(df):\n",
    "  return int(df.y_scaled + (df.h_scaled/2))\n",
    "\n",
    "def w_norm(df, col):\n",
    "  return df[col]/df['page_width_scaled']\n",
    "def h_norm(df, col):\n",
    "  return df[col]/df['page_height_scaled']\n",
    "\n",
    "df = pd.read_csv('Input data/New format/Data Cleaned/data_cleaned.csv')\n",
    "\n",
    "le = preprocessing.LabelEncoder() #used to normalize labels\n",
    "le.fit(df['category'])\n",
    "print(le.classes_)\n",
    "labels = le.transform(df['category'])\n",
    "df['labels'] = labels #0,1 depending on the category (logo = 0, signature = 1)\n",
    "\n",
    "\n",
    "df['x_center'] = df.apply(x_center, axis=1)\n",
    "df['y_center'] = df.apply(y_center, axis=1)\n",
    "\n",
    "df['x_center_norm'] = df.apply(w_norm, col='x_center',axis=1)\n",
    "df['width_norm'] = df.apply(w_norm, col='w_scaled', axis=1)\n",
    "\n",
    "df['y_center_norm'] = df.apply(h_norm, col='y_center',axis=1)\n",
    "df['height_norm'] = df.apply(h_norm, col='h_scaled',axis=1)\n",
    "\n",
    "df.head()"
   ],
   "metadata": {
    "id": "tXByKuIczSU4",
    "colab": {
     "base_uri": "https://localhost:8080/",
     "height": 403
    },
    "outputId": "b823c362-89ce-4dea-b58a-4917aaf63d52"
   },
   "execution_count": null,
   "outputs": []
  },
  {
   "cell_type": "code",
   "execution_count": null,
   "outputs": [],
   "source": [
    "df.to_csv('final_input_data.csv')"
   ],
   "metadata": {
    "collapsed": false
   }
  },
  {
   "cell_type": "markdown",
   "source": [
    "### Moving images to train and valid folders"
   ],
   "metadata": {
    "id": "_qAKweBuzmME"
   }
  },
  {
   "cell_type": "code",
   "source": [
    "df_train, df_valid = model_selection.train_test_split(df, test_size=0.1, random_state=13, shuffle=True)\n",
    "# https://scikit-learn.org/stable/modules/generated/sklearn.model_selection.train_test_split.html \n",
    "print(df_train.shape, df_valid.shape)"
   ],
   "metadata": {
    "id": "flYHh9XSznPy",
    "colab": {
     "base_uri": "https://localhost:8080/"
    },
    "outputId": "fa2dd842-30cd-484f-8e1f-ef1cd90802d6"
   },
   "execution_count": null,
   "outputs": []
  },
  {
   "cell_type": "markdown",
   "source": [
    "Creating relevant directories"
   ],
   "metadata": {
    "id": "BV78fUDCz9GJ"
   }
  },
  {
   "cell_type": "code",
   "source": [
    "path = 'Input data/New format/'\n",
    "directories = ['images/', 'images/train/', 'images/valid/', 'labels/', 'labels/train/', 'labels/valid/']\n",
    "\n",
    "for i in directories:\n",
    "  new_path = path+i\n",
    "  isExist = os.path.exists(new_path)\n",
    "  if not isExist:\n",
    "    os.mkdir(new_path)\n",
    "  else:\n",
    "    pass"
   ],
   "metadata": {
    "id": "2IHj1NFEPcb6"
   },
   "execution_count": null,
   "outputs": []
  },
  {
   "cell_type": "markdown",
   "source": [
    "Segregating images and labels to train and valid"
   ],
   "metadata": {
    "id": "0pK6KikJz9_3"
   }
  },
  {
   "cell_type": "code",
   "source": [
    "def segregate_data(df, img_path, label_path, train_img_path, train_label_path):\n",
    "  filenames = []\n",
    "  for filename in df.filename:\n",
    "    filenames.append(filename)\n",
    "  filenames = set(filenames)\n",
    "  \n",
    "  for filename in filenames:\n",
    "    yolo_list = []\n",
    "\n",
    "    for _,row in df[df.filename == filename].iterrows():\n",
    "      yolo_list.append([row.labels, row.x_center_norm, row.y_center_norm, row.width_norm, row.height_norm])\n",
    "\n",
    "    yolo_list = np.array(yolo_list)\n",
    "    txt_filename = os.path.join(train_label_path,str(row.new_filename.split('.')[0])+\".txt\") #prende il path labels train e la stringa del nome del file.txt\n",
    "    # Save the .img & .txt files to the corresponding train and validation folders\n",
    "    np.savetxt(txt_filename, yolo_list, fmt=[\"%d\", \"%f\", \"%f\", \"%f\", \"%f\"]) #%d To save as an integer, %f To save as a float, %s To save as a string\n",
    "          #yolo_list is: data to be saved to a text file\n",
    "    shutil.copyfile(os.path.join(img_path,row.new_filename), os.path.join(train_img_path,row.new_filename)) #used to copy the content of the source file to the destination file"
   ],
   "metadata": {
    "id": "WFXwIPPhz_4w"
   },
   "execution_count": null,
   "outputs": []
  },
  {
   "cell_type": "code",
   "source": [
    "df.filename"
   ],
   "metadata": {
    "colab": {
     "base_uri": "https://localhost:8080/"
    },
    "id": "9orcq-4mSnli",
    "outputId": "ceefff3a-0cf2-4f00-babd-2a6d40fccc27"
   },
   "execution_count": null,
   "outputs": []
  },
  {
   "cell_type": "code",
   "source": [
    "# Apply function\n",
    "src_img_path = \"Input data/New format/Data Scaled/\"\n",
    "src_label_path = \"Input data/Tobacc800_Groundtruth_v2.0/\""
   ],
   "metadata": {
    "id": "sLUQBpA90Fv5"
   },
   "execution_count": null,
   "outputs": []
  },
  {
   "cell_type": "code",
   "source": [
    "train_img_path = \"Input data/New format/images/train\"\n",
    "train_label_path = \"Input data/New format/labels/train\"\n",
    "\n",
    "valid_img_path = \"Input data/New format/images/valid\"\n",
    "valid_label_path = \"Input data/New format/labels/valid\"\n",
    "\n",
    "segregate_data(df_train, src_img_path, src_label_path, train_img_path, train_label_path)\n",
    "segregate_data(df_valid, src_img_path, src_label_path, valid_img_path, valid_label_path)\n",
    "\n",
    "print(\"No. of Training images\", len(os.listdir('Input data/New format/images/train')))\n",
    "print(\"No. of Training labels\", len(os.listdir('Input data/New format/labels/train')))\n",
    "\n",
    "print(\"No. of valid images\", len(os.listdir('Input data/New format/images/valid')))\n",
    "print(\"No. of valid labels\", len(os.listdir('Input data/New format/labels/valid')))"
   ],
   "metadata": {
    "id": "kYs_Iyqe0UgC",
    "colab": {
     "base_uri": "https://localhost:8080/"
    },
    "outputId": "35cdfe09-71b2-42cd-84d9-3bdca6343b03"
   },
   "execution_count": null,
   "outputs": []
  },
  {
   "cell_type": "markdown",
   "source": [
    "Deleting ipython checkpoints"
   ],
   "metadata": {
    "id": "eweaFPNvPzWL"
   }
  },
  {
   "cell_type": "code",
   "source": [
    "try:\n",
    "  shutil.rmtree('Input data/New format/images/train/.ipynb_checkpoints') #delete an entire directory tree\n",
    "except FileNotFoundError:\n",
    "  pass\n",
    "\n",
    "try:\n",
    "  shutil.rmtree('Input data/New format/images/valid/.ipynb_checkpoints')\n",
    "except FileNotFoundError:\n",
    "  pass\n",
    "\n",
    "try:\n",
    "  shutil.rmtree('Input data/New format/labels/train/.ipynb_checkpoints')\n",
    "except FileNotFoundError:\n",
    "  pass\n",
    "\n",
    "try:\n",
    "  shutil.rmtree('Input data/New format/labels/valid/.ipynb_checkpoints')\n",
    "except FileNotFoundError:\n",
    "  pass"
   ],
   "metadata": {
    "id": "fM-vCOrlPzWL"
   },
   "execution_count": null,
   "outputs": []
  }
 ],
 "metadata": {
  "colab": {
   "provenance": []
  },
  "kernelspec": {
   "display_name": "Python 3",
   "name": "python3"
  },
  "language_info": {
   "name": "python"
  }
 },
 "nbformat": 4,
 "nbformat_minor": 0
}
